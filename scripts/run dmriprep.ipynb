{
 "cells": [
  {
   "cell_type": "code",
   "execution_count": 1,
   "metadata": {},
   "outputs": [],
   "source": [
    "import os\n",
    "from dmriprep.utils.bids import get_bids_layout\n",
    "from dmriprep.workflows.dwi.base import init_dwi_preproc_wf\n",
    "from dmriprep.workflows.dwi.util import init_dwi_concat_wf\n",
    "\n",
    "from joblib import Parallel, delayed\n",
    "from pathlib import Path"
   ]
  },
  {
   "cell_type": "code",
   "execution_count": 2,
   "metadata": {},
   "outputs": [],
   "source": [
    "def run_dmriprep(sub):\n",
    "    bdir = \"/mnt/ssd3/j1c/hcp1200\"\n",
    "    out_dir = \"/mnt/ssd3/j1c/hcp1200_processed\"\n",
    "\n",
    "    ses = 1\n",
    "    sub_dict = get_bids_layout(bdir, sub, ses)\n",
    "    if len(sub_dict[ses].keys()) == 1:\n",
    "        dwi_file = sub_dict[ses][1][\"dwi_file\"]\n",
    "        fbvec = sub_dict[ses][1][\"fbvec\"]\n",
    "        fbval = sub_dict[ses][1][\"fbval\"]\n",
    "        metadata = sub_dict[ses][1][\"metadata\"]\n",
    "    else:\n",
    "        dwi_files = []\n",
    "        fbvecs = []\n",
    "        fbvals = []\n",
    "        metadata_files = []\n",
    "        for acq in sub_dict[ses].keys():\n",
    "            dwi_files.append(sub_dict[ses][acq][\"dwi_file\"])\n",
    "            fbvecs.append(sub_dict[ses][acq][\"fbvec\"])\n",
    "            fbvals.append(sub_dict[ses][acq][\"fbval\"])\n",
    "            metadata_files.append(sub_dict[ses][acq][\"metadata\"])\n",
    "        wf = init_dwi_concat_wf(dwi_files, fbvals, fbvecs, sub, ses, out_dir)\n",
    "        out = wf.run()\n",
    "    wf = init_dwi_preproc_wf(sub, ses, dwi_file, fbval, fbvec, metadata, out_dir, vox_size=\"1mm\")\n",
    "    out = wf.run()"
   ]
  },
  {
   "cell_type": "code",
   "execution_count": 4,
   "metadata": {},
   "outputs": [
    {
     "data": {
      "text/plain": [
       "['178748', '984472', '143830', '154734', '804646']"
      ]
     },
     "execution_count": 4,
     "metadata": {},
     "output_type": "execute_result"
    }
   ],
   "source": [
    "path = Path(\"../../hcp1200\")\n",
    "p = [x.parts[-1][4:] for x in path.iterdir()]\n",
    "p[:5]"
   ]
  },
  {
   "cell_type": "code",
   "execution_count": null,
   "metadata": {},
   "outputs": [
    {
     "name": "stderr",
     "output_type": "stream",
     "text": [
      "[Parallel(n_jobs=20)]: Using backend LokyBackend with 20 concurrent workers.\n"
     ]
    }
   ],
   "source": [
    "out = Parallel(n_jobs=20, verbose=1)(delayed(run_dmriprep)(s) for s in p[:20])"
   ]
  },
  {
   "cell_type": "code",
   "execution_count": null,
   "metadata": {},
   "outputs": [],
   "source": []
  }
 ],
 "metadata": {
  "kernelspec": {
   "display_name": "Python 3",
   "language": "python",
   "name": "python3"
  },
  "language_info": {
   "codemirror_mode": {
    "name": "ipython",
    "version": 3
   },
   "file_extension": ".py",
   "mimetype": "text/x-python",
   "name": "python",
   "nbconvert_exporter": "python",
   "pygments_lexer": "ipython3",
   "version": "3.6.8"
  }
 },
 "nbformat": 4,
 "nbformat_minor": 2
}
